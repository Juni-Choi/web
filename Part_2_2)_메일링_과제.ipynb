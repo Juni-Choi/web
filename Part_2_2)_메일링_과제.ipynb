{
  "nbformat": 4,
  "nbformat_minor": 0,
  "metadata": {
    "kernelspec": {
      "display_name": "Python 3",
      "language": "python",
      "name": "python3"
    },
    "language_info": {
      "codemirror_mode": {
        "name": "ipython",
        "version": 3
      },
      "file_extension": ".py",
      "mimetype": "text/x-python",
      "name": "python",
      "nbconvert_exporter": "python",
      "pygments_lexer": "ipython3",
      "version": "3.7.3"
    },
    "colab": {
      "name": "Part_2_2)_메일링_과제.ipynb",
      "provenance": [],
      "collapsed_sections": [],
      "include_colab_link": true
    }
  },
  "cells": [
    {
      "cell_type": "markdown",
      "metadata": {
        "id": "view-in-github",
        "colab_type": "text"
      },
      "source": [
        "<a href=\"https://colab.research.google.com/github/Juni-Choi/web/blob/master/Part_2_2)_%EB%A9%94%EC%9D%BC%EB%A7%81_%EA%B3%BC%EC%A0%9C.ipynb\" target=\"_parent\"><img src=\"https://colab.research.google.com/assets/colab-badge.svg\" alt=\"Open In Colab\"/></a>"
      ]
    },
    {
      "cell_type": "markdown",
      "metadata": {
        "id": "EFaYLuhCEdb9",
        "colab_type": "text"
      },
      "source": [
        "# 아래 내용은 구글 메일의 세팅을 마친 후에 진행가능합니다!"
      ]
    },
    {
      "cell_type": "code",
      "metadata": {
        "id": "OTSxNeVVEdb-",
        "colab_type": "code",
        "colab": {}
      },
      "source": [
        "import smtplib\n",
        "from email.mime.text import MIMEText\n",
        "\n",
        "def sendMail(me, you, msg):\n",
        "    smtp = smtplib.SMTP_SSL('smtp.gmail.com', 465)\n",
        "    smtp.login(me, 'kaafyhnxiorwnuqm') ####\n",
        "    msg = MIMEText(msg)\n",
        "    msg['Subject'] = 'your title'###\n",
        "    smtp.sendmail(me, you, msg.as_string())\n",
        "    smtp.quit()\n",
        "\n",
        "# sendMail('howsofar@gmail.com', 'howsofar@naver.com', 'msg') ####\n",
        "\n"
      ],
      "execution_count": null,
      "outputs": []
    },
    {
      "cell_type": "code",
      "metadata": {
        "id": "i0bpDOD9EdcD",
        "colab_type": "code",
        "colab": {}
      },
      "source": [
        "def get_news_list():\n",
        "    '''현재 네이버 실시간 검색어 순위 20개를 가져옵니다.'''\n",
        "    import requests\n",
        "    import json\n",
        "\n",
        "    url = 'https://www.naver.com/srchrank?frm=main&ag=20s&gr=0&ma=0&si=0&en=0&sp=0'\n",
        "    res = json.loads(requests.get(url).content)\n",
        "    rank = [*map(lambda item: item['keyword'], res['data'])]\n",
        "    \n",
        "    rank \n",
        "\n",
        "    rank_list = []\n",
        "\n",
        "    for i in range(len(rank)):\n",
        "        ranks= i + 1\n",
        "        rank_list.append(str(ranks) + '위 : ' + str(rank[i]))\n",
        " \n",
        "       # print (rank_list)\n",
        "\n",
        "    return rank_list"
      ],
      "execution_count": 10,
      "outputs": []
    },
    {
      "cell_type": "code",
      "metadata": {
        "id": "Uye2Lpl-ce5_",
        "colab_type": "code",
        "colab": {}
      },
      "source": [
        ""
      ],
      "execution_count": null,
      "outputs": []
    },
    {
      "cell_type": "code",
      "metadata": {
        "id": "cDCVCb6PEdcH",
        "colab_type": "code",
        "colab": {}
      },
      "source": [
        "get_news_list()"
      ],
      "execution_count": null,
      "outputs": []
    },
    {
      "cell_type": "code",
      "metadata": {
        "id": "01WdWJRHEdcK",
        "colab_type": "code",
        "colab": {}
      },
      "source": [
        "import requests\n",
        "from bs4 import BeautifulSoup\n",
        " \n",
        "def get_melon_list():\n",
        "    '''현재 멜론 인기곡 최신 54위를 반환합니다.'''\n",
        "    RANK = 54\n",
        "    rank_list = []\n",
        "    header =  { 'User-Agent' : ('Mozilla/5.0 (Windows NT 10.0;Win64; x64)\\\n",
        "AppleWebKit/537.36 (KHTML, like Gecko) Chrome/71.0.3578.98\\\n",
        "Safari/537.36'), } \n",
        "    req = requests.get('https://www.melon.com/chart/index.htm', headers = header)\n",
        "    html = req.text\n",
        "    parse = BeautifulSoup(html, 'html.parser')\n",
        "\n",
        "    titles = parse.find_all(\"div\", {\"class\": \"ellipsis rank01\"})\n",
        "    songs = parse.find_all(\"div\", {\"class\": \"ellipsis rank02\"})\n",
        "\n",
        "    title = []\n",
        "    song = []\n",
        "\n",
        "    for t in titles:\n",
        "        title.append(t.find('a').text)\n",
        "\n",
        "    for s in songs:\n",
        "        song.append(s.find('span', {\"class\": \"checkEllipsis\"}).text)\n",
        "\n",
        "    for i in range(RANK):\n",
        "        rank_list.append('%3d위: %s - %s'%(i+1, title[i], song[i]))\n",
        "    return rank_list"
      ],
      "execution_count": null,
      "outputs": []
    },
    {
      "cell_type": "code",
      "metadata": {
        "id": "yZUU1gjwEdcN",
        "colab_type": "code",
        "colab": {}
      },
      "source": [
        "get_melon_list()"
      ],
      "execution_count": null,
      "outputs": []
    },
    {
      "cell_type": "code",
      "metadata": {
        "id": "izaFE0xchOwd",
        "colab_type": "code",
        "colab": {}
      },
      "source": [
        "datetime.datetime.now()"
      ],
      "execution_count": null,
      "outputs": []
    },
    {
      "cell_type": "code",
      "metadata": {
        "id": "x1rLGZUlhSS2",
        "colab_type": "code",
        "colab": {}
      },
      "source": [
        ""
      ],
      "execution_count": null,
      "outputs": []
    },
    {
      "cell_type": "markdown",
      "metadata": {
        "id": "nKPeuSo5EdcQ",
        "colab_type": "text"
      },
      "source": [
        "# 과제: 위 컨텐츠  중 하나를 활용해,\n",
        "# 1) 네이버 실시간 검색어 순위 2) 멜론 차트 중 하나를 골라\n",
        "\n",
        "# mroboedu@gmail.com으로 5분마다 메일을 보내도록 해주세요!\n",
        "\n",
        "# 번외 : 만약이 위가 너무 쉽다면, 본인이 할 수 있는 분석 (자연어 분석, 웹크롤링) 등의 결과물을 실시간으로 메일링 하는 서비스를 만들어보아요!\n",
        "\n",
        "# 시간 : 1시간\n",
        "\n"
      ]
    },
    {
      "cell_type": "code",
      "metadata": {
        "id": "842ZnoaJkY0i",
        "colab_type": "code",
        "colab": {
          "base_uri": "https://localhost:8080/",
          "height": 89
        },
        "outputId": "612c4c11-1d74-49c9-a7c2-7a73fae05721"
      },
      "source": [
        "!pip install schedule"
      ],
      "execution_count": 3,
      "outputs": [
        {
          "output_type": "stream",
          "text": [
            "Collecting schedule\n",
            "  Downloading https://files.pythonhosted.org/packages/57/22/3a709462eb02412bd1145f6e53604f36bba191e3e4e397bea4a718fec38c/schedule-0.6.0-py2.py3-none-any.whl\n",
            "Installing collected packages: schedule\n",
            "Successfully installed schedule-0.6.0\n"
          ],
          "name": "stdout"
        }
      ]
    },
    {
      "cell_type": "code",
      "metadata": {
        "id": "XYBNT44jEdcR",
        "colab_type": "code",
        "colab": {}
      },
      "source": [
        "import smtplib\n",
        "from email.mime.text import MIMEText\n",
        "\n",
        "def sendMail(me, you, msg):\n",
        "    smtp = smtplib.SMTP_SSL('smtp.gmail.com', 465)\n",
        "    smtp.login(me, 'qgzyvbzculimjodq') ####\n",
        "    msg = MIMEText(msg)\n",
        "    msg['Subject'] = '현재 네이버 실시간 검색어 순위 20개'###\n",
        "    smtp.sendmail(me, you, msg.as_string())\n",
        "    smtp.quit()\n",
        "\n",
        "# sendMail('howsofar@gmail.com', 'howsofar@gmail.com', \"현재 네이버 실시간 검색어 순위 20개\") ####"
      ],
      "execution_count": 4,
      "outputs": []
    },
    {
      "cell_type": "code",
      "metadata": {
        "id": "-QMYSKvkhTFt",
        "colab_type": "code",
        "colab": {}
      },
      "source": [
        "def job():\n",
        "  import schedule\n",
        "  import time\n",
        "  import datetime\n",
        "\n",
        "  get_news_list()\n",
        "  msg =  []\n",
        "  msg = get_news_list()\n",
        "  sTime =  []\n",
        "  sTime = datetime.datetime.now()\n",
        "\n",
        "  print(\"SendMail...\"+str(sTime))\n",
        "\n",
        "  sendMail('howsofar@gmail.com', 'howsofar@naver.com', str(sTime) + \" 네이버 검색순위(20위) => \" + str(msg)) ####\n",
        "  sendMail('howsofar@gmail.com', 'howsofar@gmail.com', str(sTime) + \" 네이버 검색순위(20위) => \" + str(msg)) ####"
      ],
      "execution_count": 5,
      "outputs": []
    },
    {
      "cell_type": "code",
      "metadata": {
        "id": "oQNKi-OCg1wn",
        "colab_type": "code",
        "colab": {
          "base_uri": "https://localhost:8080/",
          "height": 35
        },
        "outputId": "654082af-ba51-43d9-ddcb-ba7182b62ce5"
      },
      "source": [
        "job() # 메일을 보냅니다..."
      ],
      "execution_count": 6,
      "outputs": [
        {
          "output_type": "stream",
          "text": [
            "SendMail...2020-09-24 04:27:31.410423\n"
          ],
          "name": "stdout"
        }
      ]
    },
    {
      "cell_type": "code",
      "metadata": {
        "id": "ZBzEfrqgdAZv",
        "colab_type": "code",
        "colab": {
          "base_uri": "https://localhost:8080/",
          "height": 35
        },
        "outputId": "1ccfa93c-02df-48d3-9ef6-d3d5010051e7"
      },
      "source": [
        "# job 실행 후 한번은 이 박업을 해 주어야 아래 스케줄이 정상적으로 작동한다....\n",
        "\n",
        "import schedule\n",
        "import time\n",
        "import datetime\n",
        "\n",
        "get_news_list()\n",
        "msg =  []\n",
        "msg = get_news_list()\n",
        "\n",
        "sTime =  []\n",
        "sTime = datetime.datetime.now()\n",
        "\n",
        "print(\"SendMail...\"+str(sTime))\n",
        "\n",
        "sendMail('howsofar@gmail.com', 'howsofar@naver.com', str(sTime) + \" 네이버 검색순위(20위) => \" + str(msg)) ####\n",
        "sendMail('howsofar@gmail.com', 'howsofar@gmail.com', str(sTime) + \" 네이버 검색순위(20위) => \" + str(msg)) ####"
      ],
      "execution_count": 8,
      "outputs": [
        {
          "output_type": "stream",
          "text": [
            "SendMail...2020-09-24 04:27:53.453293\n"
          ],
          "name": "stdout"
        }
      ]
    },
    {
      "cell_type": "code",
      "metadata": {
        "id": "-R3B1oJ7TVh9",
        "colab_type": "code",
        "colab": {
          "base_uri": "https://localhost:8080/",
          "height": 478
        },
        "outputId": "d1d4bbf4-8233-42ac-dd55-5efa1cb393ad"
      },
      "source": [
        "#매 분 마다 위에 정의한 job이라는 함수 실행\n",
        "\n",
        "schedule.every(1).minutes.do(job)\n",
        "\n",
        "while True:\n",
        "    schedule.run_pending()\n",
        "    time.sleep(1)"
      ],
      "execution_count": 9,
      "outputs": [
        {
          "output_type": "stream",
          "text": [
            "SendMail...2020-09-24 04:28:59.652337\n",
            "SendMail...2020-09-24 04:30:03.479239\n",
            "SendMail...2020-09-24 04:31:07.817025\n",
            "SendMail...2020-09-24 04:32:11.768355\n",
            "SendMail...2020-09-24 04:33:15.616835\n",
            "SendMail...2020-09-24 04:34:19.493338\n",
            "SendMail...2020-09-24 04:35:23.469654\n",
            "SendMail...2020-09-24 04:36:27.044242\n",
            "SendMail...2020-09-24 04:37:30.909130\n",
            "SendMail...2020-09-24 04:38:34.794377\n",
            "SendMail...2020-09-24 04:39:38.383900\n",
            "SendMail...2020-09-24 04:40:42.490080\n",
            "SendMail...2020-09-24 04:41:46.769867\n",
            "SendMail...2020-09-24 04:42:50.432521\n",
            "SendMail...2020-09-24 04:43:54.513151\n"
          ],
          "name": "stdout"
        },
        {
          "output_type": "error",
          "ename": "KeyboardInterrupt",
          "evalue": "ignored",
          "traceback": [
            "\u001b[0;31m---------------------------------------------------------------------------\u001b[0m",
            "\u001b[0;31mKeyboardInterrupt\u001b[0m                         Traceback (most recent call last)",
            "\u001b[0;32m<ipython-input-9-e603bfd1af26>\u001b[0m in \u001b[0;36m<module>\u001b[0;34m()\u001b[0m\n\u001b[1;32m      5\u001b[0m \u001b[0;32mwhile\u001b[0m \u001b[0;32mTrue\u001b[0m\u001b[0;34m:\u001b[0m\u001b[0;34m\u001b[0m\u001b[0;34m\u001b[0m\u001b[0m\n\u001b[1;32m      6\u001b[0m     \u001b[0mschedule\u001b[0m\u001b[0;34m.\u001b[0m\u001b[0mrun_pending\u001b[0m\u001b[0;34m(\u001b[0m\u001b[0;34m)\u001b[0m\u001b[0;34m\u001b[0m\u001b[0;34m\u001b[0m\u001b[0m\n\u001b[0;32m----> 7\u001b[0;31m     \u001b[0mtime\u001b[0m\u001b[0;34m.\u001b[0m\u001b[0msleep\u001b[0m\u001b[0;34m(\u001b[0m\u001b[0;36m1\u001b[0m\u001b[0;34m)\u001b[0m\u001b[0;34m\u001b[0m\u001b[0;34m\u001b[0m\u001b[0m\n\u001b[0m",
            "\u001b[0;31mKeyboardInterrupt\u001b[0m: "
          ]
        }
      ]
    },
    {
      "cell_type": "code",
      "metadata": {
        "id": "RNDQAz0xfvW8",
        "colab_type": "code",
        "colab": {}
      },
      "source": [
        ""
      ],
      "execution_count": null,
      "outputs": []
    },
    {
      "cell_type": "code",
      "metadata": {
        "id": "7KjRtQ-hPCcW",
        "colab_type": "code",
        "colab": {}
      },
      "source": [
        ""
      ],
      "execution_count": null,
      "outputs": []
    },
    {
      "cell_type": "code",
      "metadata": {
        "id": "kO-hTosXg3rl",
        "colab_type": "code",
        "colab": {}
      },
      "source": [
        ""
      ],
      "execution_count": null,
      "outputs": []
    }
  ]
}