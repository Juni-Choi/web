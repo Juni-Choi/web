{
  "nbformat": 4,
  "nbformat_minor": 0,
  "metadata": {
    "kernelspec": {
      "display_name": "Python 3",
      "language": "python",
      "name": "python3"
    },
    "language_info": {
      "codemirror_mode": {
        "name": "ipython",
        "version": 3
      },
      "file_extension": ".py",
      "mimetype": "text/x-python",
      "name": "python",
      "nbconvert_exporter": "python",
      "pygments_lexer": "ipython3",
      "version": "3.7.0"
    },
    "colab": {
      "name": "Twitter_bot.ipynb",
      "provenance": [],
      "collapsed_sections": [],
      "include_colab_link": true
    }
  },
  "cells": [
    {
      "cell_type": "markdown",
      "metadata": {
        "id": "view-in-github",
        "colab_type": "text"
      },
      "source": [
        "<a href=\"https://colab.research.google.com/github/Juni-Choi/web/blob/master/Twitter_bot.ipynb\" target=\"_parent\"><img src=\"https://colab.research.google.com/assets/colab-badge.svg\" alt=\"Open In Colab\"/></a>"
      ]
    },
    {
      "cell_type": "markdown",
      "metadata": {
        "id": "9ig39KFq2Did",
        "colab_type": "text"
      },
      "source": [
        "# 트위터 날씨봇 만들기\n",
        "\n",
        "\n",
        "## 목적 : -> 트위터에 매일 '오늘의 날씨' 자동 업로드\n",
        "\n",
        "![Reporter](./report.png)\n",
        "\n",
        "트위터봇 예시 :  https://namu.wiki/w/%ED%8A%B8%EC%9C%84%ED%84%B0%20%EB%B4%87/%EB%AA%A9%EB%A1%9D\n",
        "\n",
        "트위터 날씨봇 링크 : https://twitter.com/epower_marathon"
      ]
    },
    {
      "cell_type": "code",
      "metadata": {
        "id": "N1Wm-DXp2Die",
        "colab_type": "code",
        "colab": {}
      },
      "source": [
        ""
      ],
      "execution_count": null,
      "outputs": []
    },
    {
      "cell_type": "markdown",
      "metadata": {
        "id": "-SgGjyCg2Dii",
        "colab_type": "text"
      },
      "source": [
        "# 날씨 데이터 가져오기\n",
        "\n",
        "참조 : https://it-neicebee.tistory.com/48"
      ]
    },
    {
      "cell_type": "code",
      "metadata": {
        "id": "4eoqrEQx2Dii",
        "colab_type": "code",
        "colab": {}
      },
      "source": [
        "def get_weather_data(location = \"오산시 궐동\"):\n",
        "    \n",
        "    import requests \n",
        "    from bs4 import BeautifulSoup\n",
        "    #지역을 입력하지 않을 경우 직접 물어보기\n",
        "    if location == \"\":\n",
        "        location = input(\"지역을 입력하세요\\n>>> \") \n",
        "        \n",
        "    Finallocation = location + '날씨' \n",
        "    LocationInfo = \"\" \n",
        "    NowTemp = \"\" \n",
        "    CheckDust = [] \n",
        "    url = 'https://search.naver.com/search.naver?where=nexearch&sm=top_hty&fbm=1&ie=utf8&query=' + Finallocation \n",
        "    hdr = {'User-Agent': ('mozilla/5.0 (windows nt 10.0; win64; x64) applewebkit/537.36 (khtml, like gecko) chrome/78.0.3904.70 safari/537.36')} \n",
        "    req = requests.get(url, headers=hdr) \n",
        "    html = req.text \n",
        "    soup = BeautifulSoup(html, 'html.parser') \n",
        "    # 오류 체크 \n",
        "    ErrorCheck = soup.find('span', {'class' : 'btn_select'}) \n",
        "    if 'None' in str(ErrorCheck): \n",
        "        print(\"Error! 지역 검색 오류!\") \n",
        "    else: \n",
        "        # 지역 정보 \n",
        "        for i in soup.select('span[class=btn_select]'): \n",
        "            LocationInfo = i.text\n",
        "    # 현재 온도 \n",
        "    NowTemp = soup.find('span', {'class': 'todaytemp'}).text + soup.find('span', {'class' : 'tempmark'}).text[2:] \n",
        "    # 날씨 캐스트 \n",
        "    WeatherCast = soup.find('p', {'class' : 'cast_txt'}).text \n",
        "    # 오늘 오전온도, 오후온도, 체감온도 \n",
        "    TodayMorningTemp = soup.find('span', {'class' : 'min'}).text \n",
        "    TodayAfternoonTemp = soup.find('span', {'class' : 'max'}).text \n",
        "    TodayFeelTemp = soup.find('span', {'class' : 'sensible'}).text[5:] \n",
        "    # 자외선 지수 \n",
        "    TodayUV = soup.find('span', {'class' : 'indicator'}).text[4:-2] + \" \" + soup.find('span', {'class' : 'indicator'}).text[-2:] \n",
        "    # 미세먼지, 초미세먼지, 오존 지수 \n",
        "    CheckDust1 = soup.find('div', {'class': 'sub_info'}) \n",
        "    CheckDust2 = CheckDust1.find('div', {'class': 'detail_box'}) \n",
        "    for i in CheckDust2.select('dd'): \n",
        "        CheckDust.append(i.text) \n",
        "\n",
        "    FineDust = CheckDust[0][:-2] + \" \" + CheckDust[0][-2:] \n",
        "    UltraFineDust = CheckDust[1][:-2] + \" \" + CheckDust[1][-2:] \n",
        "    Ozon = CheckDust[2][:-2] + \" \" + CheckDust[2][-2:] \n",
        "\n",
        "    # 내일 오전, 오후 온도 및 상태 체크 \n",
        "    tomorrowArea = soup.find('div', {'class': 'tomorrow_area'}) \n",
        "    tomorrowCheck = tomorrowArea.find_all('div', {'class': 'main_info morning_box'}) \n",
        "    # 내일 오전온도 \n",
        "    tomorrowMoring1 = tomorrowCheck[0].find('span', {'class': 'todaytemp'}).text \n",
        "    tomorrowMoring2 = tomorrowCheck[0].find('span', {'class' : 'tempmark'}).text[2:] \n",
        "    tomorrowMoring = tomorrowMoring1 + tomorrowMoring2 \n",
        "    # 내일 오전상태 \n",
        "    tomorrowMState1 = tomorrowCheck[0].find('div', {'class' : 'info_data'}) \n",
        "    tomorrowMState2 = tomorrowMState1.find('ul', {'class' : 'info_list'}) \n",
        "    tomorrowMState3 = tomorrowMState2.find('p', {'class' : 'cast_txt'}).text \n",
        "    tomorrowMState4 = tomorrowMState2.find('div', {'class' : 'detail_box'}) \n",
        "    tomorrowMState5 = tomorrowMState4.find('span').text.strip() \n",
        "    tomorrowMState = tomorrowMState3 + \" \" + tomorrowMState5 \n",
        "    # 내일 오후온도 \n",
        "    tomorrowAfter1 = tomorrowCheck[1].find('p', {'class' : 'info_temperature'}) \n",
        "    tomorrowAfter2 = tomorrowAfter1.find('span', {'class' : 'todaytemp'}).text\n",
        "    tomorrowAfter3 = tomorrowAfter1.find('span', {'class' : 'tempmark'}).text[2:] \n",
        "    tomorrowAfter = tomorrowAfter2 + tomorrowAfter3 \n",
        "    # 내일 오후상태 \n",
        "    tomorrowAState1 = tomorrowCheck[1].find('div', {'class' : 'info_data'}) \n",
        "    tomorrowAState2 = tomorrowAState1.find('ul', {'class' : 'info_list'}) \n",
        "    tomorrowAState3 = tomorrowAState2.find('p', {'class' : 'cast_txt'}).text \n",
        "    tomorrowAState4 = tomorrowAState2.find('div', {'class' : 'detail_box'}) \n",
        "    tomorrowAState5 = tomorrowAState4.find('span').text.strip() \n",
        "    tomorrowAState = tomorrowAState3 + \" \" + tomorrowAState5 \n",
        "\n",
        "    print(\"=========================================\") \n",
        "    print(LocationInfo + \" 날씨 정보입니다.\") \n",
        "    print(\"=========================================\") \n",
        "    print(\"현재온도: \" + NowTemp) \n",
        "    print(\"체감온도: \" + TodayFeelTemp) \n",
        "    print(\"오전/오후 온도: \" + TodayMorningTemp + \"/\" + TodayAfternoonTemp) \n",
        "    print(\"현재 상태: \" + WeatherCast) \n",
        "    print(\"현재 자외선 지수: \" + TodayUV) \n",
        "    print(\"현재 미세먼지 농도: \" + FineDust) \n",
        "    print(\"현재 초미세먼지 농도: \" + UltraFineDust) \n",
        "    print(\"현재 오존 지수: \" + Ozon) \n",
        "    print(\"=========================================\") \n",
        "    print(LocationInfo + \" 내일 날씨 정보입니다.\") \n",
        "    print(\"=========================================\") \n",
        "    print(\"내일 오전 온도: \" + tomorrowMoring) \n",
        "    print(\"내일 오전 상태: \" + tomorrowMState) \n",
        "    print(\"내일 오후 온도: \" + tomorrowAfter) \n",
        "    print(\"내일 오후 상태: \" + tomorrowAState)\n",
        "    \n",
        "    #위 내용을 텍스트로 가져오는걸 직접 보여드리겠습니다!\n"
      ],
      "execution_count": 1,
      "outputs": []
    },
    {
      "cell_type": "code",
      "metadata": {
        "id": "2dqbcAsI2Dil",
        "colab_type": "code",
        "colab": {}
      },
      "source": [
        "get_weather_data()"
      ],
      "execution_count": null,
      "outputs": []
    },
    {
      "cell_type": "code",
      "metadata": {
        "id": "0cl1FEI02Diq",
        "colab_type": "code",
        "colab": {}
      },
      "source": [
        "get_weather_data(\"대전광역시 유성구 지족동\")"
      ],
      "execution_count": null,
      "outputs": []
    },
    {
      "cell_type": "markdown",
      "metadata": {
        "id": "84xaY2ZG2Dit",
        "colab_type": "text"
      },
      "source": [
        "# 자! 위는 출력만 하는 함수인데 이제 저 텍스트를 가져오려면 어떻게 해야 할까요?\n",
        "\n",
        "## hint : return"
      ]
    },
    {
      "cell_type": "markdown",
      "metadata": {
        "id": "nxuKi91w2Diz",
        "colab_type": "text"
      },
      "source": [
        "# 과제 :  시간 : 30분 (코딩이 가능하신 분들만)\n",
        "\n",
        "- 위 코드에서 \n",
        " - 현재 온도, \n",
        " - 체감온도, \n",
        " - 미세먼지 농도, \n",
        " - 현재 초미세먼지 농도, \n",
        " - 현재 미세먼지 농도\n",
        " - 내일 오전 온도,\n",
        " - 내일 오전 상태 \n",
        " - 내일 오후 온도 \n",
        " - 내일 오후 상태\n",
        " \n",
        "- 만 추려서 나만의 날씨 정보를 만들어보세요! 멘트는 자유롭게 하시고 저에게 보여주시면 됩니다!\n",
        "-\n",
        "\n",
        "# 과제 for 코딩이 어려우신 분들\n",
        "- 코딩이 어려우신 분들은 앞의 스케쥴링 과제로 돌아가셔서, 위 코드를 실행하시고, 매 분 마다 크롤링 한 내용을 출력할 수 있는 코드를 한번 작성해보세요!"
      ]
    },
    {
      "cell_type": "code",
      "metadata": {
        "id": "neuM-a5q2Diu",
        "colab_type": "code",
        "colab": {}
      },
      "source": [
        "def job():\n",
        "  print(\"I'm Working...\")"
      ],
      "execution_count": 6,
      "outputs": []
    },
    {
      "cell_type": "code",
      "metadata": {
        "id": "1aGOTCQj2Di0",
        "colab_type": "code",
        "colab": {}
      },
      "source": [
        "def get_today_weather():\n",
        "  return \"sunny\""
      ],
      "execution_count": 10,
      "outputs": []
    },
    {
      "cell_type": "code",
      "metadata": {
        "id": "hYEwcHw42Di4",
        "colab_type": "code",
        "colab": {
          "base_uri": "https://localhost:8080/",
          "height": 35
        },
        "outputId": "8130bfdc-4c65-404a-feb8-c37933e521dd"
      },
      "source": [
        "today_weather = get_today_weather()\n",
        "print(today_weather)"
      ],
      "execution_count": 13,
      "outputs": [
        {
          "output_type": "stream",
          "text": [
            "sunny\n"
          ],
          "name": "stdout"
        }
      ]
    },
    {
      "cell_type": "markdown",
      "metadata": {
        "id": "5ZvVdFlo2Di8",
        "colab_type": "text"
      },
      "source": [
        "# 텍스트 가져오기 시연"
      ]
    },
    {
      "cell_type": "markdown",
      "metadata": {
        "id": "Pf27FoGs4uw9",
        "colab_type": "text"
      },
      "source": [
        ""
      ]
    },
    {
      "cell_type": "code",
      "metadata": {
        "id": "HwvZ446W4uQO",
        "colab_type": "code",
        "colab": {}
      },
      "source": [
        "def get_weather_data1(location = \"오산시 궐동\"):\n",
        "    \n",
        "    import requests \n",
        "    from bs4 import BeautifulSoup\n",
        "    #지역을 입력하지 않을 경우 직접 물어보기\n",
        "    if location == \"\":\n",
        "        location = input(\"지역을 입력하세요\\n>>> \") \n",
        "        \n",
        "    Finallocation = location + '날씨' \n",
        "    LocationInfo = \"\" \n",
        "    NowTemp = \"\" \n",
        "    CheckDust = [] \n",
        "    url = 'https://search.naver.com/search.naver?where=nexearch&sm=top_hty&fbm=1&ie=utf8&query=' + Finallocation \n",
        "    hdr = {'User-Agent': ('mozilla/5.0 (windows nt 10.0; win64; x64) applewebkit/537.36 (khtml, like gecko) chrome/78.0.3904.70 safari/537.36')} \n",
        "    req = requests.get(url, headers=hdr) \n",
        "    html = req.text \n",
        "    soup = BeautifulSoup(html, 'html.parser') \n",
        "    # 오류 체크 \n",
        "    ErrorCheck = soup.find('span', {'class' : 'btn_select'}) \n",
        "    if 'None' in str(ErrorCheck): \n",
        "        print(\"Error! 지역 검색 오류!\") \n",
        "    else: \n",
        "        # 지역 정보 \n",
        "        for i in soup.select('span[class=btn_select]'): \n",
        "            LocationInfo = i.text\n",
        "    # 현재 온도 \n",
        "    NowTemp = soup.find('span', {'class': 'todaytemp'}).text + soup.find('span', {'class' : 'tempmark'}).text[2:] \n",
        "    # 날씨 캐스트 \n",
        "    WeatherCast = soup.find('p', {'class' : 'cast_txt'}).text \n",
        "    # 오늘 오전온도, 오후온도, 체감온도 \n",
        "    TodayMorningTemp = soup.find('span', {'class' : 'min'}).text \n",
        "    TodayAfternoonTemp = soup.find('span', {'class' : 'max'}).text \n",
        "    TodayFeelTemp = soup.find('span', {'class' : 'sensible'}).text[5:] \n",
        "    # 자외선 지수 \n",
        "    TodayUV = soup.find('span', {'class' : 'indicator'}).text[4:-2] + \" \" + soup.find('span', {'class' : 'indicator'}).text[-2:] \n",
        "    # 미세먼지, 초미세먼지, 오존 지수 \n",
        "    CheckDust1 = soup.find('div', {'class': 'sub_info'}) \n",
        "    CheckDust2 = CheckDust1.find('div', {'class': 'detail_box'}) \n",
        "    for i in CheckDust2.select('dd'): \n",
        "        CheckDust.append(i.text) \n",
        "\n",
        "    FineDust = CheckDust[0][:-2] + \" \" + CheckDust[0][-2:] \n",
        "    UltraFineDust = CheckDust[1][:-2] + \" \" + CheckDust[1][-2:] \n",
        "    Ozon = CheckDust[2][:-2] + \" \" + CheckDust[2][-2:] \n",
        "\n",
        "    # 내일 오전, 오후 온도 및 상태 체크 \n",
        "    tomorrowArea = soup.find('div', {'class': 'tomorrow_area'}) \n",
        "    tomorrowCheck = tomorrowArea.find_all('div', {'class': 'main_info morning_box'}) \n",
        "    # 내일 오전온도 \n",
        "    tomorrowMoring1 = tomorrowCheck[0].find('span', {'class': 'todaytemp'}).text \n",
        "    tomorrowMoring2 = tomorrowCheck[0].find('span', {'class' : 'tempmark'}).text[2:] \n",
        "    tomorrowMoring = tomorrowMoring1 + tomorrowMoring2 \n",
        "    # 내일 오전상태 \n",
        "    tomorrowMState1 = tomorrowCheck[0].find('div', {'class' : 'info_data'}) \n",
        "    tomorrowMState2 = tomorrowMState1.find('ul', {'class' : 'info_list'}) \n",
        "    tomorrowMState3 = tomorrowMState2.find('p', {'class' : 'cast_txt'}).text \n",
        "    tomorrowMState4 = tomorrowMState2.find('div', {'class' : 'detail_box'}) \n",
        "    tomorrowMState5 = tomorrowMState4.find('span').text.strip() \n",
        "    tomorrowMState = tomorrowMState3 + \" \" + tomorrowMState5 \n",
        "    # 내일 오후온도 \n",
        "    tomorrowAfter1 = tomorrowCheck[1].find('p', {'class' : 'info_temperature'}) \n",
        "    tomorrowAfter2 = tomorrowAfter1.find('span', {'class' : 'todaytemp'}).text\n",
        "    tomorrowAfter3 = tomorrowAfter1.find('span', {'class' : 'tempmark'}).text[2:] \n",
        "    tomorrowAfter = tomorrowAfter2 + tomorrowAfter3 \n",
        "    # 내일 오후상태 \n",
        "    tomorrowAState1 = tomorrowCheck[1].find('div', {'class' : 'info_data'}) \n",
        "    tomorrowAState2 = tomorrowAState1.find('ul', {'class' : 'info_list'}) \n",
        "    tomorrowAState3 = tomorrowAState2.find('p', {'class' : 'cast_txt'}).text \n",
        "    tomorrowAState4 = tomorrowAState2.find('div', {'class' : 'detail_box'}) \n",
        "    tomorrowAState5 = tomorrowAState4.find('span').text.strip() \n",
        "    tomorrowAState = tomorrowAState3 + \" \" + tomorrowAState5 \n",
        "\n",
        "    final_text = \"\"\"{LocationInfo}의 오늘 날씨는 오전 {TodayMorningTemp}, 오후 {TodayAfternoonTemp}, 체감온도 {TodayFeelTemp}, 미세먼지 {FineDust}, 초미세먼지 {UltraFineDust}, 오존농도 {Ozon}, 자외선지수 {TodayUV}입니다.\n",
        "    \"\"\".format(LocationInfo = LocationInfo,TodayMorningTemp =TodayMorningTemp, TodayAfternoonTemp = TodayAfternoonTemp, TodayFeelTemp = TodayFeelTemp, FineDust = FineDust, UltraFineDust = UltraFineDust, Ozon = Ozon, TodayUV = TodayUV) \n",
        "           # tomorrowMoring = tomorrowMoring, tomorrowAfter = tomorrowAfter, tomorrowAState = tomorrowAState)\n",
        "\n",
        "\n",
        "    return final_text\n",
        "   \n",
        "    #위 내용을 텍스트로 가져오는걸 직접 보여드리겠습니다!\n"
      ],
      "execution_count": 111,
      "outputs": []
    },
    {
      "cell_type": "code",
      "metadata": {
        "id": "fdPELLM4-3gP",
        "colab_type": "code",
        "colab": {
          "base_uri": "https://localhost:8080/",
          "height": 35
        },
        "outputId": "ad48b44e-4900-4dcd-f0ac-2c78b3c40487"
      },
      "source": [
        "get_weather_data1(\"오산시 궐동\")"
      ],
      "execution_count": 112,
      "outputs": [
        {
          "output_type": "execute_result",
          "data": {
            "application/vnd.google.colaboratory.intrinsic+json": {
              "type": "string"
            },
            "text/plain": [
              "'경기도 오산시 궐동의 오늘 날씨는 오전 14˚, 오후 24˚, 체감온도 23.4˚, 미세먼지 12㎍/㎥ 좋음, 초미세먼지 1㎍/㎥ 좋음, 오존농도 0.033ppm 보통, 자외선지수 5 보통입니다.\\n    '"
            ]
          },
          "metadata": {
            "tags": []
          },
          "execution_count": 112
        }
      ]
    },
    {
      "cell_type": "code",
      "metadata": {
        "id": "lx-MhEaO2DjC",
        "colab_type": "code",
        "colab": {
          "base_uri": "https://localhost:8080/",
          "height": 35
        },
        "outputId": "a24c3022-deac-4527-8027-4ad1ae47e69b"
      },
      "source": [
        "NowTemp = 23\n",
        "TodayFeelTemp = 4\n",
        "final_text = \"현재 온도 : \" + str(NowTemp) + \"\\n\" + \\\n",
        "              \"TodayfinalTemp \" + str(TodayFeelTemp)\n",
        "final_text"
      ],
      "execution_count": 1,
      "outputs": [
        {
          "output_type": "execute_result",
          "data": {
            "application/vnd.google.colaboratory.intrinsic+json": {
              "type": "string"
            },
            "text/plain": [
              "'현재 온도 : 23\\nTodayfinalTemp 4'"
            ]
          },
          "metadata": {
            "tags": []
          },
          "execution_count": 1
        }
      ]
    },
    {
      "cell_type": "code",
      "metadata": {
        "id": "Gu-W0QHV2Di9",
        "colab_type": "code",
        "colab": {
          "base_uri": "https://localhost:8080/",
          "height": 197
        },
        "outputId": "58138ede-9788-48bd-cf5c-da52863a9a64"
      },
      "source": [
        "pip install tweepy"
      ],
      "execution_count": 45,
      "outputs": [
        {
          "output_type": "stream",
          "text": [
            "Requirement already satisfied: tweepy in /usr/local/lib/python3.6/dist-packages (3.6.0)\n",
            "Requirement already satisfied: PySocks>=1.5.7 in /usr/local/lib/python3.6/dist-packages (from tweepy) (1.7.1)\n",
            "Requirement already satisfied: requests-oauthlib>=0.7.0 in /usr/local/lib/python3.6/dist-packages (from tweepy) (1.3.0)\n",
            "Requirement already satisfied: six>=1.10.0 in /usr/local/lib/python3.6/dist-packages (from tweepy) (1.15.0)\n",
            "Requirement already satisfied: requests>=2.11.1 in /usr/local/lib/python3.6/dist-packages (from tweepy) (2.23.0)\n",
            "Requirement already satisfied: oauthlib>=3.0.0 in /usr/local/lib/python3.6/dist-packages (from requests-oauthlib>=0.7.0->tweepy) (3.1.0)\n",
            "Requirement already satisfied: idna<3,>=2.5 in /usr/local/lib/python3.6/dist-packages (from requests>=2.11.1->tweepy) (2.10)\n",
            "Requirement already satisfied: chardet<4,>=3.0.2 in /usr/local/lib/python3.6/dist-packages (from requests>=2.11.1->tweepy) (3.0.4)\n",
            "Requirement already satisfied: certifi>=2017.4.17 in /usr/local/lib/python3.6/dist-packages (from requests>=2.11.1->tweepy) (2020.6.20)\n",
            "Requirement already satisfied: urllib3!=1.25.0,!=1.25.1,<1.26,>=1.21.1 in /usr/local/lib/python3.6/dist-packages (from requests>=2.11.1->tweepy) (1.24.3)\n"
          ],
          "name": "stdout"
        }
      ]
    },
    {
      "cell_type": "code",
      "metadata": {
        "id": "jNEovZ6w51eE",
        "colab_type": "code",
        "colab": {}
      },
      "source": [
        ""
      ],
      "execution_count": null,
      "outputs": []
    },
    {
      "cell_type": "code",
      "metadata": {
        "id": "jqKkXPFr517k",
        "colab_type": "code",
        "colab": {}
      },
      "source": [
        ""
      ],
      "execution_count": null,
      "outputs": []
    },
    {
      "cell_type": "code",
      "metadata": {
        "id": "u9UXw3nO51iT",
        "colab_type": "code",
        "colab": {}
      },
      "source": [
        ""
      ],
      "execution_count": null,
      "outputs": []
    },
    {
      "cell_type": "code",
      "metadata": {
        "id": "9MQl9thk51IW",
        "colab_type": "code",
        "colab": {}
      },
      "source": [
        ""
      ],
      "execution_count": null,
      "outputs": []
    },
    {
      "cell_type": "code",
      "metadata": {
        "id": "ymGcjMVW2DjH",
        "colab_type": "code",
        "colab": {}
      },
      "source": [
        ""
      ],
      "execution_count": null,
      "outputs": []
    },
    {
      "cell_type": "markdown",
      "metadata": {
        "id": "n_ZKKGnw2DjJ",
        "colab_type": "text"
      },
      "source": [
        "# 트위터 봇 만들기 시작!"
      ]
    },
    {
      "cell_type": "markdown",
      "metadata": {
        "id": "i_0O-ywf2DjK",
        "colab_type": "text"
      },
      "source": [
        "# twitter api를 활용한 twitter upload"
      ]
    },
    {
      "cell_type": "markdown",
      "metadata": {
        "id": "lduxXRET2DjK",
        "colab_type": "text"
      },
      "source": [
        "# twitter api 발급 받기\n",
        "\n",
        "- 트위터 계정을 프로그램 개발에 사용할 수 있도록 제 notion 링크 참조\n",
        "\n",
        "- 발급 받으면 consumer_key, consumer_secret, access_token, access_token_secret 가 주어짐."
      ]
    },
    {
      "cell_type": "markdown",
      "metadata": {
        "id": "aS1mRF5_2DjL",
        "colab_type": "text"
      },
      "source": [
        "#### anaconda prompt에 필요한 패키지 설치\n",
        "\n",
        "pip install tweepy"
      ]
    },
    {
      "cell_type": "code",
      "metadata": {
        "id": "-lrj0o5a2DjM",
        "colab_type": "code",
        "colab": {}
      },
      "source": [
        "# 트위터 api 사용 모듈 가져오기\n",
        "import tweepy"
      ],
      "execution_count": 87,
      "outputs": []
    },
    {
      "cell_type": "code",
      "metadata": {
        "id": "b2s2WcTC2DjO",
        "colab_type": "code",
        "colab": {}
      },
      "source": [
        "# 인증키값들 써주기\n",
        "#oetgo@daum.net\n",
        "#API Key \n",
        "consumer_key = 'ExcRL3OPMPwVVOTx2VXNUvrQY'\n",
        "#API Key_Secret\n",
        "consumer_secret = 'wolrZNwPxIqqH9SJhZVjbrRFhzut3N388VKS7YCzgRdYuTog45'\n",
        "access_token = '2769145560-kLzZ2BSqj0xpwAUkS6aqBQ2qk6FgXVaamgWHXCZ'\n",
        "access_token_secret = 'IE8x6b5jqpZKF5DZspUHwaosP8k4iakEORAiwkGNhRJ4w'"
      ],
      "execution_count": 88,
      "outputs": []
    },
    {
      "cell_type": "code",
      "metadata": {
        "id": "HMRYu2t32DjR",
        "colab_type": "code",
        "colab": {
          "base_uri": "https://localhost:8080/",
          "height": 35
        },
        "outputId": "312ada43-6e0b-45de-e359-7dd5f3896660"
      },
      "source": [
        "# 인증키값들 보내주기\n",
        "auth = tweepy.OAuthHandler(consumer_key, consumer_secret) #consumer_key, consumer_secret\n",
        "auth.set_access_token(access_token, access_token_secret) #access_token, access_token_secret\n",
        "api = tweepy.API(auth)\n",
        "api"
      ],
      "execution_count": 89,
      "outputs": [
        {
          "output_type": "execute_result",
          "data": {
            "text/plain": [
              "<tweepy.api.API at 0x7f54d00bf3c8>"
            ]
          },
          "metadata": {
            "tags": []
          },
          "execution_count": 89
        }
      ]
    },
    {
      "cell_type": "code",
      "metadata": {
        "id": "v0MSgUG52DjU",
        "colab_type": "code",
        "colab": {
          "base_uri": "https://localhost:8080/",
          "height": 35
        },
        "outputId": "a744e8bd-048b-4b10-9751-1e0b5e0312bf"
      },
      "source": [
        "# 업로드할 내용 써주기\n",
        "tweet = '안녕하세요! Juni 입니다.\\n ' + get_weather_data1() # 내 이름 + 문구 써주기\n",
        "tweet"
      ],
      "execution_count": 108,
      "outputs": [
        {
          "output_type": "execute_result",
          "data": {
            "application/vnd.google.colaboratory.intrinsic+json": {
              "type": "string"
            },
            "text/plain": [
              "'안녕하세요! Juni 입니다.\\n 경기도 오산시 궐동의 날씨는 오전 14˚, 오후 24˚, 체감온도 23.2˚, 미세먼지 12㎍/㎥ 좋음, 초미세먼지 1㎍/㎥ 좋음, 오존농도 0.033ppm 보통, 자외선지수 5 보통입니다.\\n    '"
            ]
          },
          "metadata": {
            "tags": []
          },
          "execution_count": 108
        }
      ]
    },
    {
      "cell_type": "code",
      "metadata": {
        "id": "m-YSxxDK2DjX",
        "colab_type": "code",
        "colab": {
          "base_uri": "https://localhost:8080/",
          "height": 55
        },
        "outputId": "39e6cf57-2d26-4ddb-98be-74fc1cea2838"
      },
      "source": [
        "# 트윗 업로드!\n",
        "api.update_status(status=tweet)"
      ],
      "execution_count": 109,
      "outputs": [
        {
          "output_type": "execute_result",
          "data": {
            "text/plain": [
              "Status(_api=<tweepy.api.API object at 0x7f54d00bf3c8>, _json={'created_at': 'Thu Sep 24 09:18:51 +0000 2020', 'id': 1309059713540259840, 'id_str': '1309059713540259840', 'text': '안녕하세요! Juni 입니다.\\n 경기도 오산시 궐동의 날씨는 오전 14˚, 오후 24˚, 체감온도 23.2˚, 미세먼지 12㎍/㎥ 좋음, 초미세먼지 1㎍/㎥ 좋음, 오존농도 0.033ppm 보통, 자외선지수 5 보통입니다.', 'truncated': False, 'entities': {'hashtags': [], 'symbols': [], 'user_mentions': [], 'urls': []}, 'source': '', 'in_reply_to_status_id': None, 'in_reply_to_status_id_str': None, 'in_reply_to_user_id': None, 'in_reply_to_user_id_str': None, 'in_reply_to_screen_name': None, 'user': {'id': 2769145560, 'id_str': '2769145560', 'name': '최준화', 'screen_name': 'junichoi94', 'location': '경기도 오산시', 'description': '현 WEB PROGRAMMER,\\n현 AMATEUR PHOTOGRAPHER.\\n현 IT & EDU. EXPERT FREELANCER.\\n전 (주)토마토시스템 교육사업부 이사\\n전 오산대학교 외래(시간) 강사\\n전 대학교 정보전산원, 입학관리팀 근무\\n전 법무부 교정위원 안양교도소 정보화교육 강사', 'url': 'https://t.co/8wZNpqagNV', 'entities': {'url': {'urls': [{'url': 'https://t.co/8wZNpqagNV', 'expanded_url': 'http://www.gaonlive.kr', 'display_url': 'gaonlive.kr', 'indices': [0, 23]}]}, 'description': {'urls': []}}, 'protected': False, 'followers_count': 28, 'friends_count': 132, 'listed_count': 0, 'created_at': 'Tue Aug 26 05:08:31 +0000 2014', 'favourites_count': 19, 'utc_offset': None, 'time_zone': None, 'geo_enabled': False, 'verified': False, 'statuses_count': 15, 'lang': None, 'contributors_enabled': False, 'is_translator': False, 'is_translation_enabled': False, 'profile_background_color': 'C0DEED', 'profile_background_image_url': 'http://abs.twimg.com/images/themes/theme1/bg.png', 'profile_background_image_url_https': 'https://abs.twimg.com/images/themes/theme1/bg.png', 'profile_background_tile': False, 'profile_image_url': 'http://pbs.twimg.com/profile_images/792224787976232960/7rFmD9Da_normal.jpg', 'profile_image_url_https': 'https://pbs.twimg.com/profile_images/792224787976232960/7rFmD9Da_normal.jpg', 'profile_link_color': '1DA1F2', 'profile_sidebar_border_color': 'C0DEED', 'profile_sidebar_fill_color': 'DDEEF6', 'profile_text_color': '333333', 'profile_use_background_image': True, 'has_extended_profile': False, 'default_profile': True, 'default_profile_image': False, 'following': False, 'follow_request_sent': False, 'notifications': False, 'translator_type': 'none'}, 'geo': None, 'coordinates': None, 'place': None, 'contributors': None, 'is_quote_status': False, 'retweet_count': 0, 'favorite_count': 0, 'favorited': False, 'retweeted': False, 'lang': 'ko'}, created_at=datetime.datetime(2020, 9, 24, 9, 18, 51), id=1309059713540259840, id_str='1309059713540259840', text='안녕하세요! Juni 입니다.\\n 경기도 오산시 궐동의 날씨는 오전 14˚, 오후 24˚, 체감온도 23.2˚, 미세먼지 12㎍/㎥ 좋음, 초미세먼지 1㎍/㎥ 좋음, 오존농도 0.033ppm 보통, 자외선지수 5 보통입니다.', truncated=False, entities={'hashtags': [], 'symbols': [], 'user_mentions': [], 'urls': []}, source='', source_url=None, in_reply_to_status_id=None, in_reply_to_status_id_str=None, in_reply_to_user_id=None, in_reply_to_user_id_str=None, in_reply_to_screen_name=None, author=User(_api=<tweepy.api.API object at 0x7f54d00bf3c8>, _json={'id': 2769145560, 'id_str': '2769145560', 'name': '최준화', 'screen_name': 'junichoi94', 'location': '경기도 오산시', 'description': '현 WEB PROGRAMMER,\\n현 AMATEUR PHOTOGRAPHER.\\n현 IT & EDU. EXPERT FREELANCER.\\n전 (주)토마토시스템 교육사업부 이사\\n전 오산대학교 외래(시간) 강사\\n전 대학교 정보전산원, 입학관리팀 근무\\n전 법무부 교정위원 안양교도소 정보화교육 강사', 'url': 'https://t.co/8wZNpqagNV', 'entities': {'url': {'urls': [{'url': 'https://t.co/8wZNpqagNV', 'expanded_url': 'http://www.gaonlive.kr', 'display_url': 'gaonlive.kr', 'indices': [0, 23]}]}, 'description': {'urls': []}}, 'protected': False, 'followers_count': 28, 'friends_count': 132, 'listed_count': 0, 'created_at': 'Tue Aug 26 05:08:31 +0000 2014', 'favourites_count': 19, 'utc_offset': None, 'time_zone': None, 'geo_enabled': False, 'verified': False, 'statuses_count': 15, 'lang': None, 'contributors_enabled': False, 'is_translator': False, 'is_translation_enabled': False, 'profile_background_color': 'C0DEED', 'profile_background_image_url': 'http://abs.twimg.com/images/themes/theme1/bg.png', 'profile_background_image_url_https': 'https://abs.twimg.com/images/themes/theme1/bg.png', 'profile_background_tile': False, 'profile_image_url': 'http://pbs.twimg.com/profile_images/792224787976232960/7rFmD9Da_normal.jpg', 'profile_image_url_https': 'https://pbs.twimg.com/profile_images/792224787976232960/7rFmD9Da_normal.jpg', 'profile_link_color': '1DA1F2', 'profile_sidebar_border_color': 'C0DEED', 'profile_sidebar_fill_color': 'DDEEF6', 'profile_text_color': '333333', 'profile_use_background_image': True, 'has_extended_profile': False, 'default_profile': True, 'default_profile_image': False, 'following': False, 'follow_request_sent': False, 'notifications': False, 'translator_type': 'none'}, id=2769145560, id_str='2769145560', name='최준화', screen_name='junichoi94', location='경기도 오산시', description='현 WEB PROGRAMMER,\\n현 AMATEUR PHOTOGRAPHER.\\n현 IT & EDU. EXPERT FREELANCER.\\n전 (주)토마토시스템 교육사업부 이사\\n전 오산대학교 외래(시간) 강사\\n전 대학교 정보전산원, 입학관리팀 근무\\n전 법무부 교정위원 안양교도소 정보화교육 강사', url='https://t.co/8wZNpqagNV', entities={'url': {'urls': [{'url': 'https://t.co/8wZNpqagNV', 'expanded_url': 'http://www.gaonlive.kr', 'display_url': 'gaonlive.kr', 'indices': [0, 23]}]}, 'description': {'urls': []}}, protected=False, followers_count=28, friends_count=132, listed_count=0, created_at=datetime.datetime(2014, 8, 26, 5, 8, 31), favourites_count=19, utc_offset=None, time_zone=None, geo_enabled=False, verified=False, statuses_count=15, lang=None, contributors_enabled=False, is_translator=False, is_translation_enabled=False, profile_background_color='C0DEED', profile_background_image_url='http://abs.twimg.com/images/themes/theme1/bg.png', profile_background_image_url_https='https://abs.twimg.com/images/themes/theme1/bg.png', profile_background_tile=False, profile_image_url='http://pbs.twimg.com/profile_images/792224787976232960/7rFmD9Da_normal.jpg', profile_image_url_https='https://pbs.twimg.com/profile_images/792224787976232960/7rFmD9Da_normal.jpg', profile_link_color='1DA1F2', profile_sidebar_border_color='C0DEED', profile_sidebar_fill_color='DDEEF6', profile_text_color='333333', profile_use_background_image=True, has_extended_profile=False, default_profile=True, default_profile_image=False, following=False, follow_request_sent=False, notifications=False, translator_type='none'), user=User(_api=<tweepy.api.API object at 0x7f54d00bf3c8>, _json={'id': 2769145560, 'id_str': '2769145560', 'name': '최준화', 'screen_name': 'junichoi94', 'location': '경기도 오산시', 'description': '현 WEB PROGRAMMER,\\n현 AMATEUR PHOTOGRAPHER.\\n현 IT & EDU. EXPERT FREELANCER.\\n전 (주)토마토시스템 교육사업부 이사\\n전 오산대학교 외래(시간) 강사\\n전 대학교 정보전산원, 입학관리팀 근무\\n전 법무부 교정위원 안양교도소 정보화교육 강사', 'url': 'https://t.co/8wZNpqagNV', 'entities': {'url': {'urls': [{'url': 'https://t.co/8wZNpqagNV', 'expanded_url': 'http://www.gaonlive.kr', 'display_url': 'gaonlive.kr', 'indices': [0, 23]}]}, 'description': {'urls': []}}, 'protected': False, 'followers_count': 28, 'friends_count': 132, 'listed_count': 0, 'created_at': 'Tue Aug 26 05:08:31 +0000 2014', 'favourites_count': 19, 'utc_offset': None, 'time_zone': None, 'geo_enabled': False, 'verified': False, 'statuses_count': 15, 'lang': None, 'contributors_enabled': False, 'is_translator': False, 'is_translation_enabled': False, 'profile_background_color': 'C0DEED', 'profile_background_image_url': 'http://abs.twimg.com/images/themes/theme1/bg.png', 'profile_background_image_url_https': 'https://abs.twimg.com/images/themes/theme1/bg.png', 'profile_background_tile': False, 'profile_image_url': 'http://pbs.twimg.com/profile_images/792224787976232960/7rFmD9Da_normal.jpg', 'profile_image_url_https': 'https://pbs.twimg.com/profile_images/792224787976232960/7rFmD9Da_normal.jpg', 'profile_link_color': '1DA1F2', 'profile_sidebar_border_color': 'C0DEED', 'profile_sidebar_fill_color': 'DDEEF6', 'profile_text_color': '333333', 'profile_use_background_image': True, 'has_extended_profile': False, 'default_profile': True, 'default_profile_image': False, 'following': False, 'follow_request_sent': False, 'notifications': False, 'translator_type': 'none'}, id=2769145560, id_str='2769145560', name='최준화', screen_name='junichoi94', location='경기도 오산시', description='현 WEB PROGRAMMER,\\n현 AMATEUR PHOTOGRAPHER.\\n현 IT & EDU. EXPERT FREELANCER.\\n전 (주)토마토시스템 교육사업부 이사\\n전 오산대학교 외래(시간) 강사\\n전 대학교 정보전산원, 입학관리팀 근무\\n전 법무부 교정위원 안양교도소 정보화교육 강사', url='https://t.co/8wZNpqagNV', entities={'url': {'urls': [{'url': 'https://t.co/8wZNpqagNV', 'expanded_url': 'http://www.gaonlive.kr', 'display_url': 'gaonlive.kr', 'indices': [0, 23]}]}, 'description': {'urls': []}}, protected=False, followers_count=28, friends_count=132, listed_count=0, created_at=datetime.datetime(2014, 8, 26, 5, 8, 31), favourites_count=19, utc_offset=None, time_zone=None, geo_enabled=False, verified=False, statuses_count=15, lang=None, contributors_enabled=False, is_translator=False, is_translation_enabled=False, profile_background_color='C0DEED', profile_background_image_url='http://abs.twimg.com/images/themes/theme1/bg.png', profile_background_image_url_https='https://abs.twimg.com/images/themes/theme1/bg.png', profile_background_tile=False, profile_image_url='http://pbs.twimg.com/profile_images/792224787976232960/7rFmD9Da_normal.jpg', profile_image_url_https='https://pbs.twimg.com/profile_images/792224787976232960/7rFmD9Da_normal.jpg', profile_link_color='1DA1F2', profile_sidebar_border_color='C0DEED', profile_sidebar_fill_color='DDEEF6', profile_text_color='333333', profile_use_background_image=True, has_extended_profile=False, default_profile=True, default_profile_image=False, following=False, follow_request_sent=False, notifications=False, translator_type='none'), geo=None, coordinates=None, place=None, contributors=None, is_quote_status=False, retweet_count=0, favorite_count=0, favorited=False, retweeted=False, lang='ko')"
            ]
          },
          "metadata": {
            "tags": []
          },
          "execution_count": 109
        }
      ]
    },
    {
      "cell_type": "code",
      "metadata": {
        "id": "GCegBn7w2Djb",
        "colab_type": "code",
        "colab": {
          "base_uri": "https://localhost:8080/",
          "height": 55
        },
        "outputId": "12c177fe-b950-46c8-b061-6e5e4910baba"
      },
      "source": [
        "# 사진도 같이 업로드!\n",
        "sTime = []\n",
        "sTime = datetime.datetime.now()\n",
        "\n",
        "tweet = \"[Juni]의 오늘(\" + str(sTime) + \")의 날씨 안내 입니다.\\n\" + get_weather_data1()\n",
        "media_ids = []\n",
        "res = api.media_upload('./reporter.jpg') # 사진 업로드 먼저 하기!\n",
        "media_ids.append(res.media_id)\n",
        "api.update_status(media_ids=media_ids,status=tweet)"
      ],
      "execution_count": 125,
      "outputs": [
        {
          "output_type": "execute_result",
          "data": {
            "text/plain": [
              "Status(_api=<tweepy.api.API object at 0x7f54d00bf3c8>, _json={'created_at': 'Thu Sep 24 09:51:56 +0000 2020', 'id': 1309068041003716613, 'id_str': '1309068041003716613', 'text': '[Juni]의 오늘(2020-09-24 09:51:54.915327)의 날씨 안내 입니다.\\n경기도 오산시 궐동의 오늘 날씨는 오전 14˚, 오후 24˚, 체감온도 22.7˚, 미세먼지 10㎍/㎥ 좋음, 초미… https://t.co/GHFokduZcH', 'truncated': True, 'entities': {'hashtags': [], 'symbols': [], 'user_mentions': [], 'urls': [{'url': 'https://t.co/GHFokduZcH', 'expanded_url': 'https://twitter.com/i/web/status/1309068041003716613', 'display_url': 'twitter.com/i/web/status/1…', 'indices': [117, 140]}]}, 'source': '', 'in_reply_to_status_id': None, 'in_reply_to_status_id_str': None, 'in_reply_to_user_id': None, 'in_reply_to_user_id_str': None, 'in_reply_to_screen_name': None, 'user': {'id': 2769145560, 'id_str': '2769145560', 'name': '최준화', 'screen_name': 'junichoi94', 'location': '경기도 오산시', 'description': '현 WEB PROGRAMMER,\\n현 AMATEUR PHOTOGRAPHER.\\n현 IT & EDU. EXPERT FREELANCER.\\n전 (주)토마토시스템 교육사업부 이사\\n전 오산대학교 외래(시간) 강사\\n전 대학교 정보전산원, 입학관리팀 근무\\n전 법무부 교정위원 안양교도소 정보화교육 강사', 'url': 'https://t.co/8wZNpqagNV', 'entities': {'url': {'urls': [{'url': 'https://t.co/8wZNpqagNV', 'expanded_url': 'http://www.gaonlive.kr', 'display_url': 'gaonlive.kr', 'indices': [0, 23]}]}, 'description': {'urls': []}}, 'protected': False, 'followers_count': 28, 'friends_count': 132, 'listed_count': 0, 'created_at': 'Tue Aug 26 05:08:31 +0000 2014', 'favourites_count': 19, 'utc_offset': None, 'time_zone': None, 'geo_enabled': False, 'verified': False, 'statuses_count': 20, 'lang': None, 'contributors_enabled': False, 'is_translator': False, 'is_translation_enabled': False, 'profile_background_color': 'C0DEED', 'profile_background_image_url': 'http://abs.twimg.com/images/themes/theme1/bg.png', 'profile_background_image_url_https': 'https://abs.twimg.com/images/themes/theme1/bg.png', 'profile_background_tile': False, 'profile_image_url': 'http://pbs.twimg.com/profile_images/792224787976232960/7rFmD9Da_normal.jpg', 'profile_image_url_https': 'https://pbs.twimg.com/profile_images/792224787976232960/7rFmD9Da_normal.jpg', 'profile_link_color': '1DA1F2', 'profile_sidebar_border_color': 'C0DEED', 'profile_sidebar_fill_color': 'DDEEF6', 'profile_text_color': '333333', 'profile_use_background_image': True, 'has_extended_profile': False, 'default_profile': True, 'default_profile_image': False, 'following': False, 'follow_request_sent': False, 'notifications': False, 'translator_type': 'none'}, 'geo': None, 'coordinates': None, 'place': None, 'contributors': None, 'is_quote_status': False, 'retweet_count': 0, 'favorite_count': 0, 'favorited': False, 'retweeted': False, 'possibly_sensitive': False, 'lang': 'ko'}, created_at=datetime.datetime(2020, 9, 24, 9, 51, 56), id=1309068041003716613, id_str='1309068041003716613', text='[Juni]의 오늘(2020-09-24 09:51:54.915327)의 날씨 안내 입니다.\\n경기도 오산시 궐동의 오늘 날씨는 오전 14˚, 오후 24˚, 체감온도 22.7˚, 미세먼지 10㎍/㎥ 좋음, 초미… https://t.co/GHFokduZcH', truncated=True, entities={'hashtags': [], 'symbols': [], 'user_mentions': [], 'urls': [{'url': 'https://t.co/GHFokduZcH', 'expanded_url': 'https://twitter.com/i/web/status/1309068041003716613', 'display_url': 'twitter.com/i/web/status/1…', 'indices': [117, 140]}]}, source='', source_url=None, in_reply_to_status_id=None, in_reply_to_status_id_str=None, in_reply_to_user_id=None, in_reply_to_user_id_str=None, in_reply_to_screen_name=None, author=User(_api=<tweepy.api.API object at 0x7f54d00bf3c8>, _json={'id': 2769145560, 'id_str': '2769145560', 'name': '최준화', 'screen_name': 'junichoi94', 'location': '경기도 오산시', 'description': '현 WEB PROGRAMMER,\\n현 AMATEUR PHOTOGRAPHER.\\n현 IT & EDU. EXPERT FREELANCER.\\n전 (주)토마토시스템 교육사업부 이사\\n전 오산대학교 외래(시간) 강사\\n전 대학교 정보전산원, 입학관리팀 근무\\n전 법무부 교정위원 안양교도소 정보화교육 강사', 'url': 'https://t.co/8wZNpqagNV', 'entities': {'url': {'urls': [{'url': 'https://t.co/8wZNpqagNV', 'expanded_url': 'http://www.gaonlive.kr', 'display_url': 'gaonlive.kr', 'indices': [0, 23]}]}, 'description': {'urls': []}}, 'protected': False, 'followers_count': 28, 'friends_count': 132, 'listed_count': 0, 'created_at': 'Tue Aug 26 05:08:31 +0000 2014', 'favourites_count': 19, 'utc_offset': None, 'time_zone': None, 'geo_enabled': False, 'verified': False, 'statuses_count': 20, 'lang': None, 'contributors_enabled': False, 'is_translator': False, 'is_translation_enabled': False, 'profile_background_color': 'C0DEED', 'profile_background_image_url': 'http://abs.twimg.com/images/themes/theme1/bg.png', 'profile_background_image_url_https': 'https://abs.twimg.com/images/themes/theme1/bg.png', 'profile_background_tile': False, 'profile_image_url': 'http://pbs.twimg.com/profile_images/792224787976232960/7rFmD9Da_normal.jpg', 'profile_image_url_https': 'https://pbs.twimg.com/profile_images/792224787976232960/7rFmD9Da_normal.jpg', 'profile_link_color': '1DA1F2', 'profile_sidebar_border_color': 'C0DEED', 'profile_sidebar_fill_color': 'DDEEF6', 'profile_text_color': '333333', 'profile_use_background_image': True, 'has_extended_profile': False, 'default_profile': True, 'default_profile_image': False, 'following': False, 'follow_request_sent': False, 'notifications': False, 'translator_type': 'none'}, id=2769145560, id_str='2769145560', name='최준화', screen_name='junichoi94', location='경기도 오산시', description='현 WEB PROGRAMMER,\\n현 AMATEUR PHOTOGRAPHER.\\n현 IT & EDU. EXPERT FREELANCER.\\n전 (주)토마토시스템 교육사업부 이사\\n전 오산대학교 외래(시간) 강사\\n전 대학교 정보전산원, 입학관리팀 근무\\n전 법무부 교정위원 안양교도소 정보화교육 강사', url='https://t.co/8wZNpqagNV', entities={'url': {'urls': [{'url': 'https://t.co/8wZNpqagNV', 'expanded_url': 'http://www.gaonlive.kr', 'display_url': 'gaonlive.kr', 'indices': [0, 23]}]}, 'description': {'urls': []}}, protected=False, followers_count=28, friends_count=132, listed_count=0, created_at=datetime.datetime(2014, 8, 26, 5, 8, 31), favourites_count=19, utc_offset=None, time_zone=None, geo_enabled=False, verified=False, statuses_count=20, lang=None, contributors_enabled=False, is_translator=False, is_translation_enabled=False, profile_background_color='C0DEED', profile_background_image_url='http://abs.twimg.com/images/themes/theme1/bg.png', profile_background_image_url_https='https://abs.twimg.com/images/themes/theme1/bg.png', profile_background_tile=False, profile_image_url='http://pbs.twimg.com/profile_images/792224787976232960/7rFmD9Da_normal.jpg', profile_image_url_https='https://pbs.twimg.com/profile_images/792224787976232960/7rFmD9Da_normal.jpg', profile_link_color='1DA1F2', profile_sidebar_border_color='C0DEED', profile_sidebar_fill_color='DDEEF6', profile_text_color='333333', profile_use_background_image=True, has_extended_profile=False, default_profile=True, default_profile_image=False, following=False, follow_request_sent=False, notifications=False, translator_type='none'), user=User(_api=<tweepy.api.API object at 0x7f54d00bf3c8>, _json={'id': 2769145560, 'id_str': '2769145560', 'name': '최준화', 'screen_name': 'junichoi94', 'location': '경기도 오산시', 'description': '현 WEB PROGRAMMER,\\n현 AMATEUR PHOTOGRAPHER.\\n현 IT & EDU. EXPERT FREELANCER.\\n전 (주)토마토시스템 교육사업부 이사\\n전 오산대학교 외래(시간) 강사\\n전 대학교 정보전산원, 입학관리팀 근무\\n전 법무부 교정위원 안양교도소 정보화교육 강사', 'url': 'https://t.co/8wZNpqagNV', 'entities': {'url': {'urls': [{'url': 'https://t.co/8wZNpqagNV', 'expanded_url': 'http://www.gaonlive.kr', 'display_url': 'gaonlive.kr', 'indices': [0, 23]}]}, 'description': {'urls': []}}, 'protected': False, 'followers_count': 28, 'friends_count': 132, 'listed_count': 0, 'created_at': 'Tue Aug 26 05:08:31 +0000 2014', 'favourites_count': 19, 'utc_offset': None, 'time_zone': None, 'geo_enabled': False, 'verified': False, 'statuses_count': 20, 'lang': None, 'contributors_enabled': False, 'is_translator': False, 'is_translation_enabled': False, 'profile_background_color': 'C0DEED', 'profile_background_image_url': 'http://abs.twimg.com/images/themes/theme1/bg.png', 'profile_background_image_url_https': 'https://abs.twimg.com/images/themes/theme1/bg.png', 'profile_background_tile': False, 'profile_image_url': 'http://pbs.twimg.com/profile_images/792224787976232960/7rFmD9Da_normal.jpg', 'profile_image_url_https': 'https://pbs.twimg.com/profile_images/792224787976232960/7rFmD9Da_normal.jpg', 'profile_link_color': '1DA1F2', 'profile_sidebar_border_color': 'C0DEED', 'profile_sidebar_fill_color': 'DDEEF6', 'profile_text_color': '333333', 'profile_use_background_image': True, 'has_extended_profile': False, 'default_profile': True, 'default_profile_image': False, 'following': False, 'follow_request_sent': False, 'notifications': False, 'translator_type': 'none'}, id=2769145560, id_str='2769145560', name='최준화', screen_name='junichoi94', location='경기도 오산시', description='현 WEB PROGRAMMER,\\n현 AMATEUR PHOTOGRAPHER.\\n현 IT & EDU. EXPERT FREELANCER.\\n전 (주)토마토시스템 교육사업부 이사\\n전 오산대학교 외래(시간) 강사\\n전 대학교 정보전산원, 입학관리팀 근무\\n전 법무부 교정위원 안양교도소 정보화교육 강사', url='https://t.co/8wZNpqagNV', entities={'url': {'urls': [{'url': 'https://t.co/8wZNpqagNV', 'expanded_url': 'http://www.gaonlive.kr', 'display_url': 'gaonlive.kr', 'indices': [0, 23]}]}, 'description': {'urls': []}}, protected=False, followers_count=28, friends_count=132, listed_count=0, created_at=datetime.datetime(2014, 8, 26, 5, 8, 31), favourites_count=19, utc_offset=None, time_zone=None, geo_enabled=False, verified=False, statuses_count=20, lang=None, contributors_enabled=False, is_translator=False, is_translation_enabled=False, profile_background_color='C0DEED', profile_background_image_url='http://abs.twimg.com/images/themes/theme1/bg.png', profile_background_image_url_https='https://abs.twimg.com/images/themes/theme1/bg.png', profile_background_tile=False, profile_image_url='http://pbs.twimg.com/profile_images/792224787976232960/7rFmD9Da_normal.jpg', profile_image_url_https='https://pbs.twimg.com/profile_images/792224787976232960/7rFmD9Da_normal.jpg', profile_link_color='1DA1F2', profile_sidebar_border_color='C0DEED', profile_sidebar_fill_color='DDEEF6', profile_text_color='333333', profile_use_background_image=True, has_extended_profile=False, default_profile=True, default_profile_image=False, following=False, follow_request_sent=False, notifications=False, translator_type='none'), geo=None, coordinates=None, place=None, contributors=None, is_quote_status=False, retweet_count=0, favorite_count=0, favorited=False, retweeted=False, possibly_sensitive=False, lang='ko')"
            ]
          },
          "metadata": {
            "tags": []
          },
          "execution_count": 125
        }
      ]
    },
    {
      "cell_type": "markdown",
      "metadata": {
        "id": "CZtAQ6U-2Dje",
        "colab_type": "text"
      },
      "source": [
        "# 과제 - 제한시간 15분 (바로 제가 이어서 같이 실행하도록 하겠습니다!)\n",
        "\n",
        "## 트위터 날씨봇 만들기 ( 예시 : 매일 9시에 자동 업로드)"
      ]
    },
    {
      "cell_type": "code",
      "metadata": {
        "id": "9Ty9iLmM2Dje",
        "colab_type": "code",
        "colab": {}
      },
      "source": [
        "def ~~ 어떤 함수를 써야할까요?\n",
        "\n",
        "weather_url"
      ],
      "execution_count": null,
      "outputs": []
    },
    {
      "cell_type": "code",
      "metadata": {
        "id": "SiuQzgMs2Djh",
        "colab_type": "code",
        "colab": {}
      },
      "source": [
        ""
      ],
      "execution_count": null,
      "outputs": []
    },
    {
      "cell_type": "code",
      "metadata": {
        "id": "SStfjOZF2Djk",
        "colab_type": "code",
        "colab": {}
      },
      "source": [
        "\n",
        "import datetime\n",
        "# 전체 코드\n",
        "# 날씨 정보 가져오는 함수\n",
        "def write_tweet():\n",
        "    try:\n",
        "        # 현재 날짜 정보 가져오기 (년,월,일)\n",
        "        year = str(datetime.datetime.now().year)\n",
        "        month = str(datetime.datetime.now().month)\n",
        "        day = str(datetime.datetime.now().day)\n",
        "        \n",
        "        #  여기에 뭘 해야 할까요?\n",
        "        # tweet = get_weather_data1(\"경기도 오산시 궐동\")\n",
        "        #\n",
        "\n",
        "          # 트위터에 업로드\n",
        "        #API Key \n",
        "        consumer_key = 'ExcRL3OPMPwVVOTx2VXNUvrQY'\n",
        "        #API Key_Secret\n",
        "        consumer_secret = 'wolrZNwPxIqqH9SJhZVjbrRFhzut3N388VKS7YCzgRdYuTog45'\n",
        "        access_token = '2769145560-kLzZ2BSqj0xpwAUkS6aqBQ2qk6FgXVaamgWHXCZ'\n",
        "        access_token_secret = 'IE8x6b5jqpZKF5DZspUHwaosP8k4iakEORAiwkGNhRJ4w'\n",
        "        \n",
        "        auth = tweepy.OAuthHandler(consumer_key, consumer_secret)\n",
        "        auth.set_access_token(access_token, access_token_secret)\n",
        "        api = tweepy.API(auth)\n",
        "        \n",
        "        # 트윗내용\n",
        "        tweet = get_weather_data1(\"경기도 오산시 궐동\")\n",
        "        media_ids = []\n",
        "        res = api.media_upload('./reporter.jpg') #내가 원하는 다른 사진을 쓰셔도 됩니다.!\n",
        "        media_ids.append(res.media_id)\n",
        "        api.update_status(media_ids=media_ids,status=tweet)\n",
        "        \n",
        "    except:\n",
        "        raise ValueError(\"에러났음\")\n"
      ],
      "execution_count": 117,
      "outputs": []
    },
    {
      "cell_type": "code",
      "metadata": {
        "id": "lM4LMDbFcZjV",
        "colab_type": "code",
        "colab": {}
      },
      "source": [
        "write_tweet()"
      ],
      "execution_count": 119,
      "outputs": []
    },
    {
      "cell_type": "code",
      "metadata": {
        "id": "0_zTLTEweDf2",
        "colab_type": "code",
        "colab": {}
      },
      "source": [
        "!pip install schedule"
      ],
      "execution_count": null,
      "outputs": []
    },
    {
      "cell_type": "markdown",
      "metadata": {
        "id": "Y-0Z6c5G2Djm",
        "colab_type": "text"
      },
      "source": [
        "# 자동화 설정"
      ]
    },
    {
      "cell_type": "code",
      "metadata": {
        "id": "2pJA9s4N2Djn",
        "colab_type": "code",
        "colab": {}
      },
      "source": [
        "####### 여기부터는 실행시키지 말아주세요!! #######"
      ],
      "execution_count": null,
      "outputs": []
    },
    {
      "cell_type": "code",
      "metadata": {
        "id": "T2BXh23D2Djp",
        "colab_type": "code",
        "colab": {}
      },
      "source": [
        "# 필요 패키지 가져오기\n",
        "import schedule\n",
        "from time import sleep"
      ],
      "execution_count": 126,
      "outputs": []
    },
    {
      "cell_type": "code",
      "metadata": {
        "id": "aeyzFHv02Djr",
        "colab_type": "code",
        "colab": {}
      },
      "source": [
        "# 매일 xx시 xx분 업로드 되게끔 설정\n",
        "schedule.every().day.at(\"09:57\").do(write_tweet)\n",
        "while True:\n",
        "    schedule.run_pending()\n",
        "    sleep(30) "
      ],
      "execution_count": null,
      "outputs": []
    },
    {
      "cell_type": "code",
      "metadata": {
        "id": "GajQJYmo2Dju",
        "colab_type": "code",
        "colab": {}
      },
      "source": [
        "####### 여기까지는 실행시키지 말아주세요!! #######"
      ],
      "execution_count": null,
      "outputs": []
    },
    {
      "cell_type": "code",
      "metadata": {
        "id": "ufs2l0cn2Djy",
        "colab_type": "code",
        "colab": {
          "base_uri": "https://localhost:8080/",
          "height": 35
        },
        "outputId": "8302ffef-25ed-4ae8-c9f2-34bacf80cc13"
      },
      "source": [
        "datetime.datetime.now()"
      ],
      "execution_count": 122,
      "outputs": [
        {
          "output_type": "execute_result",
          "data": {
            "text/plain": [
              "datetime.datetime(2020, 9, 24, 9, 38, 39, 477048)"
            ]
          },
          "metadata": {
            "tags": []
          },
          "execution_count": 122
        }
      ]
    },
    {
      "cell_type": "markdown",
      "metadata": {
        "id": "KEvM2yfW2Dj1",
        "colab_type": "text"
      },
      "source": [
        "## --------------------------------감사합니다----------------------------!!!!!!"
      ]
    },
    {
      "cell_type": "markdown",
      "metadata": {
        "id": "MF-FFHkx2Dj2",
        "colab_type": "text"
      },
      "source": [
        "![by-nc-nd.png](attachment:by-nc-nd.png)"
      ]
    }
  ]
}